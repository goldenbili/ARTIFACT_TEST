{
  "nbformat": 4,
  "nbformat_minor": 0,
  "metadata": {
    "colab": {
      "name": "Untitled2.ipynb",
      "provenance": [],
      "collapsed_sections": []
    },
    "kernelspec": {
      "name": "python3",
      "display_name": "Python 3"
    },
    "language_info": {
      "name": "python"
    }
  },
  "cells": [
    {
      "cell_type": "markdown",
      "metadata": {
        "id": "aJwBHJ_UOABG"
      },
      "source": [
        "# 1. env build"
      ]
    },
    {
      "cell_type": "code",
      "metadata": {
        "id": "HxMJGXddBocA"
      },
      "source": [
        "!atp-get update\n",
        "!apt-get upgrade\n",
        "\n",
        "# \n",
        "# ---------------------------------------------------------------------------- #\n",
        "!python3.7 -m pip install nvidia-ml-py3\n",
        "!python3.7 -m pip install fastai==1.0.61\n",
        "!python3.7 -m pip install lpips==0.1.3\n",
        "!sudo apt-get install libsvm-dev\n",
        "!python3.7 -m pip install pybrisque\n",
        "!python3.7 -m pip install sk-video\n",
        "!python3.7 -m pip install geffnet\n",
        "# ---------------------------------------------------------------------------- #\n",
        "\n",
        "!pip install \"torch==1.4\" \"torchvision==0.5.0\"\n",
        "!pip install wandb\n",
        "!pip install wandb --upgrade\n",
        "\n",
        "\n",
        "# google permission authentication\n",
        "# ---------------------------------------------------------------------------- #\n",
        "!apt-get install -y -qq software-properties-common python-software-properties module-init-tools\n",
        "!add-apt-repository -y ppa:alessandro-strada/ppa 2>&1 > /dev/null\n",
        "!apt-get update -qq 2>&1 > /dev/null\n",
        "!apt-get -y install -qq google-drive-ocamlfuse fuse\n",
        " \n",
        "from google.colab import auth\n",
        "auth.authenticate_user()\n",
        "from oauth2client.client import GoogleCredentials\n",
        "creds = GoogleCredentials.get_application_default()\n",
        "import getpass\n",
        "!google-drive-ocamlfuse -headless -id={creds.client_id} -secret={creds.client_secret} < /dev/null 2>&1 | grep URL\n",
        "vcode = getpass.getpass()\n",
        "!echo {vcode} | google-drive-ocamlfuse -headless -id={creds.client_id} -secret={creds.client_secret}\n",
        "# ---------------------------------------------------------------------------- #\n",
        "\n",
        "\n",
        "# mount google cloud storage\n",
        "# ---------------------------------------------------------------------------- #\n",
        "# -----------------\n",
        "# Load the Drive helper and mount\n",
        "from google.colab import drive\n",
        "# This will prompt for authorization.\n",
        "drive.mount('/content/drive')\n",
        "# ---------------------------------------------------------------------------- #\n",
        "\n",
        "# base include\n",
        "# ---------------------------------------------------------------------------- #\n",
        "import datetime\n",
        "import json\n",
        "import os\n",
        "import pprint\n",
        "import random\n",
        "import string\n",
        "import sys\n",
        "import tensorflow as tf\n",
        "# ---------------------------------------------------------------------------- #\n",
        "\n",
        "# ---------------------------------------------------------------------------- #\n",
        "%cd /content/\n",
        "!wget https://github.com/cjlin1/libsvm/archive/refs/tags/v324.tar.gz\n",
        "!tar zxvf v324.tar.gz\n",
        "%cd libsvm-324/\n",
        "!make clean\n",
        "!make\n",
        "!rm /content/v324.tar.gz\n",
        "# ---------------------------------------------------------------------------- #\n",
        "\n",
        "# ---------------------------------------------------------------------------- #\n",
        "# source code in github main\n",
        "%cd /content/\n",
        "!cp -R /content/drive/MyDrive/ARGAN-Temp/Artifact_Removal_GAN/ /content/\n",
        "if not 'Artifact_Removal_GAN' in sys.path:\n",
        "  sys.path += ['Artifact_Removal_GAN']\n",
        "%cd Artifact_Removal_GAN/\n",
        "!mkdir models\n",
        "!wget -P /content/Artifact_Removal_GAN/models/ https://github.com/mameli/Artifact_Removal_GAN/releases/download/1.1/standard.pkl\n",
        "# ---------------------------------------------------------------------------- #"
      ],
      "execution_count": null,
      "outputs": []
    },
    {
      "cell_type": "code",
      "metadata": {
        "id": "yTWCGMQYPE8q"
      },
      "source": [
        "!wandb login --relogin"
      ],
      "execution_count": null,
      "outputs": []
    },
    {
      "cell_type": "code",
      "metadata": {
        "id": "RJdP8RhxPG3q"
      },
      "source": [
        "wandbCallbacks = True\n",
        "import datetime\n",
        "\n",
        "if wandbCallbacks:\n",
        "    import wandb\n",
        "    from wandb.fastai import WandbCallback\n",
        "    config={\"batch_size\": bs,\n",
        "            \"img_size\": (sz, sz),\n",
        "            \"learning_rate\": lr,\n",
        "            \"weight_decay\": wd,\n",
        "            \"num_epochs\": epochs\n",
        "    }\n",
        "    # wandb.init(project='SuperRes', config=config, id=\"unet_superRes_mobilenetV3_FID\"+ datetime.datetime.now().strftime('_%m-%d_%H:%M'))\n",
        "    wandb.init(settings=wandb.Settings(start_method='thread'))\n",
        "    learn_gen.callback_fns.append(partial(WandbCallback, input_type='images'))"
      ],
      "execution_count": null,
      "outputs": []
    },
    {
      "cell_type": "markdown",
      "metadata": {
        "id": "THT8xXbCOHkJ"
      },
      "source": [
        "# 2.  Train Code"
      ]
    },
    {
      "cell_type": "code",
      "metadata": {
        "id": "jg8dM5N2P_qe"
      },
      "source": [
        "path = Path('/content/drive/MyDrive/')\n",
        "\n",
        "path_fullRes = path/'MyTrain444/'\n",
        "path_lowRes_Full = path/'MyTrain420/'\n",
        "proj_id = 'unet_superRes_mobilenetV3_LPIPS'\n",
        "\n",
        "gen_name = proj_id + '_gen'\n",
        "crit_name = proj_id + '_crit'\n",
        "\n",
        "nf_factor = 2\n",
        "pct_start = 1e-8"
      ],
      "execution_count": null,
      "outputs": []
    },
    {
      "cell_type": "code",
      "metadata": {
        "id": "ZU65X32VQAfa"
      },
      "source": [
        "bs=10\n",
        "sz=256\n",
        "lr = 1e-2\n",
        "wd = 1e-3\n",
        "epochs = 10"
      ],
      "execution_count": null,
      "outputs": []
    },
    {
      "cell_type": "code",
      "metadata": {
        "id": "EZDSlWsUP1p4"
      },
      "source": [
        "import sys\n",
        "sys.path.append('/content/libsvm-324/python')\n",
        "import os\n",
        "os.environ['CUDA_VISIBLE_DEVICES']='0'\n",
        "\n",
        "from fastai import *\n",
        "from fastai.vision import *\n",
        "from fastai.vision.gan import *\n",
        "from ArNet.generators import *\n",
        "from ArNet.critics import *\n",
        "from ArNet.dataset import *\n",
        "from ArNet.loss import *\n",
        "from ArNet.save import *\n",
        "from ArNet.fid_loss import *\n",
        "from ArNet.ssim import *\n",
        "from ArNet.metrics import *\n",
        "\n",
        "import torchvision\n",
        "import geffnet # efficient/ mobile net\n",
        "\n",
        "def do_fit(learn, epochs,save_name, lrs=slice(1e-3), pct_start=0.9):\n",
        "    learn.fit_one_cycle(epochs, lrs, pct_start=pct_start)\n",
        "    learn.save(save_name)\n",
        "    learn.show_results(rows=1, imgsize=20)"
      ],
      "execution_count": null,
      "outputs": []
    },
    {
      "cell_type": "code",
      "metadata": {
        "id": "L3BZKjlmQVbT"
      },
      "source": [
        "model = geffnet.mobilenetv3_rw\n",
        "\n",
        "loss_func = lpips_loss()\n",
        "loss_func=loss_func.cuda()\n",
        "\n",
        "data_gen = get_DIV2k_data_QF(path_lowRes_Full, path_fullRes, bs=bs, sz=sz)\n",
        "\n",
        "learn_gen = gen_learner_wide(data=data_gen,\n",
        "                             gen_loss=loss_func,\n",
        "                             arch = model,\n",
        "                             nf_factor=nf_factor)"
      ],
      "execution_count": null,
      "outputs": []
    },
    {
      "cell_type": "markdown",
      "metadata": {
        "id": "BCYOtZC8PT4c"
      },
      "source": [
        "metrics append"
      ]
    },
    {
      "cell_type": "code",
      "metadata": {
        "id": "Q0kmEyKaNym4"
      },
      "source": [
        "learn_gen.metrics.append(SSIM_Metric_gen())\n",
        "learn_gen.metrics.append(SSIM_Metric_input())\n",
        "learn_gen.metrics.append(LPIPS_Metric_gen())\n",
        "learn_gen.metrics.append(LPIPS_Metric_input())\n",
        "learn_gen.metrics.append(BRISQUE_Metric_gen())\n",
        "learn_gen.metrics.append(BRISQUE_Metric_input())\n",
        "learn_gen.metrics.append(BRISQUE_Metric_target())\n",
        "learn_gen.metrics.append(NIQE_Metric_gen())\n",
        "learn_gen.metrics.append(NIQE_Metric_input())\n",
        "learn_gen.metrics.append(NIQE_Metric_target())"
      ],
      "execution_count": null,
      "outputs": []
    },
    {
      "cell_type": "markdown",
      "metadata": {
        "id": "Ir4MRDarPNHW"
      },
      "source": [
        "learning rate "
      ]
    },
    {
      "cell_type": "code",
      "metadata": {
        "id": "x5ub7-DCN7Gf"
      },
      "source": [
        "learn_gen.lr_find()\n",
        "learn_gen.recorder.plot()\n",
        "learn_gen.summary()"
      ],
      "execution_count": null,
      "outputs": []
    },
    {
      "cell_type": "code",
      "metadata": {
        "id": "QO3VgZYsPdpT"
      },
      "source": [
        "# save path ...\n",
        "do_fit(learn_gen, 25, gen_name+\"_256px_0\", slice(lr*10))\n",
        "# learn_gen.unfreeze()\n",
        "# do_fit(learn_gen, 1, gen_name+\"_256px_1\", lr)"
      ],
      "execution_count": null,
      "outputs": []
    }
  ]
}