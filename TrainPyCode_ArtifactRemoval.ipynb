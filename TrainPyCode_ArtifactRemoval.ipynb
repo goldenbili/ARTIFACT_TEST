{
  "nbformat": 4,
  "nbformat_minor": 0,
  "metadata": {
    "colab": {
      "name": "TrainPyCode_ArtifactRemoval.ipynb",
      "private_outputs": true,
      "provenance": [],
      "collapsed_sections": []
    },
    "kernelspec": {
      "name": "python3",
      "display_name": "Python 3"
    },
    "language_info": {
      "name": "python"
    },
    "accelerator": "GPU"
  },
  "cells": [
    {
      "cell_type": "markdown",
      "metadata": {
        "id": "QqcQaZ6S2o2z"
      },
      "source": [
        "# Pre process"
      ]
    },
    {
      "cell_type": "code",
      "metadata": {
        "id": "T95YMsteyhrl"
      },
      "source": [
        "!apt-get install -y -qq software-properties-common python-software-properties module-init-tools\n",
        "!add-apt-repository -y ppa:alessandro-strada/ppa 2>&1 > /dev/null\n",
        "!apt-get update -qq 2>&1 > /dev/null\n",
        "!apt-get -y install -qq google-drive-ocamlfuse fuse\n",
        " \n",
        "from google.colab import auth\n",
        "auth.authenticate_user()\n",
        "from oauth2client.client import GoogleCredentials\n",
        "creds = GoogleCredentials.get_application_default()\n",
        "import getpass\n",
        "!google-drive-ocamlfuse -headless -id={creds.client_id} -secret={creds.client_secret} < /dev/null 2>&1 | grep URL\n",
        "vcode = getpass.getpass()\n",
        "!echo {vcode} | google-drive-ocamlfuse -headless -id={creds.client_id} -secret={creds.client_secret}\n",
        " \n",
        " \n",
        "import datetime\n",
        "import json\n",
        "import os\n",
        "import pprint\n",
        "import random\n",
        "import string\n",
        "import sys\n",
        "import tensorflow as tf"
      ],
      "execution_count": null,
      "outputs": []
    },
    {
      "cell_type": "code",
      "metadata": {
        "id": "kez3VECpy3hp"
      },
      "source": [
        "# Load the Drive helper and mount\n",
        "from google.colab import drive\n",
        "# This will prompt for authorization.\n",
        "drive.mount('/content/drive')"
      ],
      "execution_count": null,
      "outputs": []
    },
    {
      "cell_type": "code",
      "metadata": {
        "id": "A4De5BnCzK2w"
      },
      "source": [
        "!python3.7 -m pip install nvidia-ml-py3\n",
        "!python3.7 -m pip install fastai==1.0.61\n",
        "!python3.7 -m pip install lpips==0.1.3\n",
        "!sudo apt-get install libsvm-dev\n",
        "!python3.7 -m pip install pybrisque\n",
        "!python3.7 -m pip install sk-video\n",
        "!python3.7 -m pip install geffnet"
      ],
      "execution_count": null,
      "outputs": []
    },
    {
      "cell_type": "markdown",
      "metadata": {
        "id": "NPqmX21C2HIw"
      },
      "source": [
        "# Download libsvm"
      ]
    },
    {
      "cell_type": "code",
      "metadata": {
        "id": "I1BBG0zDRblr"
      },
      "source": [
        "%cd /content/\n",
        "!wget https://github.com/cjlin1/libsvm/archive/refs/tags/v324.tar.gz\n",
        "!tar zxvf v324.tar.gz\n",
        "%cd libsvm-324/\n",
        "!make clean\n",
        "!make\n",
        "!rm /content/v324.tar.gz"
      ],
      "execution_count": null,
      "outputs": []
    },
    {
      "cell_type": "markdown",
      "metadata": {
        "id": "YF6byOGw1v-C"
      },
      "source": [
        "# Check env"
      ]
    },
    {
      "cell_type": "code",
      "metadata": {
        "id": "7dw6QycR01-g"
      },
      "source": [
        "!python -V"
      ],
      "execution_count": null,
      "outputs": []
    },
    {
      "cell_type": "code",
      "metadata": {
        "id": "nMPw47cu5ssd"
      },
      "source": [
        "!nvidia-smi"
      ],
      "execution_count": null,
      "outputs": []
    },
    {
      "cell_type": "code",
      "metadata": {
        "id": "pwI7dAo47Z4E"
      },
      "source": [
        "%tensorflow_version 2.x\n",
        "import tensorflow as tf\n",
        "device_name = tf.test.gpu_device_name()\n",
        "if device_name != '/device:GPU:0':\n",
        "  raise SystemError('GPU device not found')\n",
        "print('Found GPU at: {}'.format(device_name))"
      ],
      "execution_count": null,
      "outputs": []
    },
    {
      "cell_type": "markdown",
      "metadata": {
        "id": "ds4cSgq31gGv"
      },
      "source": [
        "# Download Artifact_Removal_GAN & Run"
      ]
    },
    {
      "cell_type": "code",
      "metadata": {
        "id": "S-EZz2MfzAvj"
      },
      "source": [
        "# source code in github main\n",
        "%cd /content/\n",
        "!cp -R /content/drive/MyDrive/ARGAN-Temp/Artifact_Removal_GAN/ /content/\n",
        "if not 'Artifact_Removal_GAN' in sys.path:\n",
        "  sys.path += ['Artifact_Removal_GAN']\n",
        "%cd Artifact_Removal_GAN/\n",
        "!mkdir models\n",
        "!wget -P /content/Artifact_Removal_GAN/models/ https://github.com/mameli/Artifact_Removal_GAN/releases/download/1.1/standard.pkl"
      ],
      "execution_count": null,
      "outputs": []
    },
    {
      "cell_type": "code",
      "metadata": {
        "id": "-nZbU32f1qiF"
      },
      "source": [
        "!python Training_unet_patch_LPIPS_64.py"
      ],
      "execution_count": null,
      "outputs": []
    },
    {
      "cell_type": "markdown",
      "metadata": {
        "id": "dvwLq3Y7_xeR"
      },
      "source": [
        "# Create dataset"
      ]
    },
    {
      "cell_type": "code",
      "metadata": {
        "id": "tJZrXUGJ_vXq"
      },
      "source": [
        "from pathlib import Path\n",
        "path = Path('./dataset/')\n",
        "\n",
        "path_fullRes = path/'DIV2K_train_HR'\n",
        "\n",
        "\n",
        "path_lowRes_64 = path/'DIV2K_train_LR_64_QF20'\n",
        "path_lowRes_256 = path/'DIV2K_train_LR_256_QF20'\n",
        "path_lowRes_512 = path/'DIV2K_train_LR_512_QF20'\n",
        "path_lowRes_1024 = path/'DIV2K_train_LR_1024_QF20'\n",
        "path_lowRes_Full = path/'DIV2K_train_LR_Full_QF20'"
      ],
      "execution_count": null,
      "outputs": []
    },
    {
      "cell_type": "code",
      "metadata": {
        "id": "GIuEZd8DAmJq"
      },
      "source": [
        "path_fullRes_mixed = path/'DIV2K_Flickr_Mixed_HR'\n",
        "\n",
        "\n",
        "path_lowRes_512_mixed = path/'DIV2K_Flickr_Mixed_LR_512_QF20'\n",
        "path_lowRes_1024_mixed = path/'DIV2K_Flickr_Mixed_LR_1024_QF20'"
      ],
      "execution_count": null,
      "outputs": []
    },
    {
      "cell_type": "code",
      "metadata": {
        "id": "1s7EqfQIAnCg"
      },
      "source": [
        "datasets = [(path_lowRes_256, 256, 20), (path_lowRes_512, 512, 20)]"
      ],
      "execution_count": null,
      "outputs": []
    },
    {
      "cell_type": "code",
      "metadata": {
        "id": "pIXQo3vNIBhZ"
      },
      "source": [
        "datasets = [(path_lowRes_Full, 0, 20)]"
      ],
      "execution_count": null,
      "outputs": []
    },
    {
      "cell_type": "code",
      "metadata": {
        "id": "Lhw8iYLFCD7D"
      },
      "source": [
        "%cd dataset/\n",
        "!wget http://data.vision.ee.ethz.ch/cvl/DIV2K/DIV2K_train_HR.zip\n",
        "!unzip DIV2K_train_HR.zip\n",
        "!rm DIV2K_train_HR.zip\n",
        "%cd /content/Artifact_Removal_GAN/"
      ],
      "execution_count": null,
      "outputs": []
    },
    {
      "cell_type": "code",
      "metadata": {
        "id": "BZno_oeODfIi"
      },
      "source": [
        "%cd /content/Artifact_Removal_GAN/"
      ],
      "execution_count": null,
      "outputs": []
    },
    {
      "cell_type": "code",
      "metadata": {
        "id": "smb3luvvArL1"
      },
      "source": [
        "from ArNet import dataset\n",
        "dataset.create_dataset(path_fullRes, datasets, downsize=False)"
      ],
      "execution_count": null,
      "outputs": []
    },
    {
      "cell_type": "markdown",
      "metadata": {
        "id": "7HG9ymfc0_K9"
      },
      "source": [
        "# Test Unit"
      ]
    },
    {
      "cell_type": "code",
      "metadata": {
        "id": "1gM_YvJLkajn"
      },
      "source": [
        "%cd /content/\n",
        "!git clone https://github.com/tensorflow/models.git"
      ],
      "execution_count": null,
      "outputs": []
    },
    {
      "cell_type": "code",
      "metadata": {
        "id": "3sZdqpopkfL_"
      },
      "source": [
        "%cd models/research\n",
        "!protoc object_detection/protos/*.proto --python_out=.\n",
        "# Install TensorFlow Object Detection API.\n",
        "!cp object_detection/packages/tf2/setup.py .\n",
        "# way1\n",
        "# !python -m pip install --use-feature=2020-resolver .\n",
        "# way2\n",
        "# !pip install --use-feature=2020-resolver --upgrade aws-cdk.aws-sns-subscriptions\n",
        "# way3\n",
        "!pip install --upgrade pip\n",
        "!pip install --upgrade pip==20.3\n",
        "!pip install --use-feature=2020-resolver --upgrade aws-cdk.aws-sns-subscriptions"
      ],
      "execution_count": null,
      "outputs": []
    },
    {
      "cell_type": "code",
      "metadata": {
        "id": "04q5ioVk-XM0"
      },
      "source": [
        "%cd /content\n",
        "# Clone the git repo.\n",
        "!git clone https://github.com/Netflix/vmaf.git\n",
        "# Build the library.\n",
        "%cd vmaf/\n",
        "!make && make install\n",
        "# Build Python-specific bits.\n",
        "%cd /content/vmaf/libsvm/python/\n",
        "!make\n",
        "# Add the Python module to the path.\n",
        "import sys\n",
        "sys.path.append('/content/vmaf/libsvm/python')\n",
        "# Switch back to the base directory. (This is a convenience\n",
        "# and isn't required.)\n",
        "%cd /content/Artifact_Removal_GAN/"
      ],
      "execution_count": null,
      "outputs": []
    },
    {
      "cell_type": "code",
      "metadata": {
        "id": "lY7pdZWzSI3-"
      },
      "source": [
        "import sys\n",
        "sys.path.append('/content/libsvm-324/python')"
      ],
      "execution_count": null,
      "outputs": []
    },
    {
      "cell_type": "code",
      "metadata": {
        "id": "VPsAHVXhTM0P"
      },
      "source": [
        "!pip install image-quality"
      ],
      "execution_count": null,
      "outputs": []
    },
    {
      "cell_type": "code",
      "metadata": {
        "id": "RBBj_J5yKYYw"
      },
      "source": [
        "!python3.7 -m pip install torch==1.7.1"
      ],
      "execution_count": null,
      "outputs": []
    },
    {
      "cell_type": "code",
      "metadata": {
        "id": "D_pto8Monb82"
      },
      "source": [
        "!python3.7 -m pip install libsvm"
      ],
      "execution_count": null,
      "outputs": []
    },
    {
      "cell_type": "code",
      "metadata": {
        "id": "hDkXHL2onjN8"
      },
      "source": [
        "!python3.7 -m pip install psutil==5.8.0"
      ],
      "execution_count": null,
      "outputs": []
    },
    {
      "cell_type": "code",
      "metadata": {
        "id": "ZlR2QQdt96bC"
      },
      "source": [
        "!python3.7 -m pip install pybrisque"
      ],
      "execution_count": null,
      "outputs": []
    },
    {
      "cell_type": "code",
      "metadata": {
        "id": "1A4YZBu0oMKS"
      },
      "source": [
        "!python3.7 -m pip install scikit-video"
      ],
      "execution_count": null,
      "outputs": []
    },
    {
      "cell_type": "code",
      "metadata": {
        "id": "hvwiuY-voQCW"
      },
      "source": [
        "!python3.7 -m pip install wandb"
      ],
      "execution_count": null,
      "outputs": []
    },
    {
      "cell_type": "code",
      "metadata": {
        "id": "L2Us5_LxoDhT"
      },
      "source": [
        "!python3.7 -m pip install nbconvert"
      ],
      "execution_count": null,
      "outputs": []
    },
    {
      "cell_type": "code",
      "metadata": {
        "id": "FPVXiXlBDJ4t"
      },
      "source": [
        "!python3.7 -m pip install meson"
      ],
      "execution_count": null,
      "outputs": []
    },
    {
      "cell_type": "code",
      "metadata": {
        "id": "KyLe786aDW3H"
      },
      "source": [
        "!python3.7 -m pip install nasm"
      ],
      "execution_count": null,
      "outputs": []
    },
    {
      "cell_type": "code",
      "metadata": {
        "id": "uTyCJvJEHdrA"
      },
      "source": [
        "!python3.7 -m pip install convert"
      ],
      "execution_count": null,
      "outputs": []
    }
  ]
}