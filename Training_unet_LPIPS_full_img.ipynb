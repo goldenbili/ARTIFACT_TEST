{
  "nbformat": 4,
  "nbformat_minor": 0,
  "metadata": {
    "kernelspec": {
      "display_name": "Python 3",
      "language": "python",
      "name": "python3"
    },
    "language_info": {
      "codemirror_mode": {
        "name": "ipython",
        "version": 3
      },
      "file_extension": ".py",
      "mimetype": "text/x-python",
      "name": "python",
      "nbconvert_exporter": "python",
      "pygments_lexer": "ipython3",
      "version": "3.6.9"
    },
    "colab": {
      "name": "Training_unet_LPIPS_full_img.ipynb",
      "provenance": []
    }
  },
  "cells": [
    {
      "cell_type": "code",
      "metadata": {
        "id": "NQWrUoH_WVdf"
      },
      "source": [
        "import os\n",
        "os.environ['CUDA_VISIBLE_DEVICES']='0'\n",
        "\n",
        "from fastai import *\n",
        "from fastai.vision import *\n",
        "from fastai.vision.gan import *\n",
        "from ArNet.generators import *\n",
        "from ArNet.critics import *\n",
        "from ArNet.dataset import *\n",
        "from ArNet.loss import *\n",
        "from ArNet.save import *\n",
        "from ArNet.fid_loss import *\n",
        "from ArNet.ssim import *\n",
        "from ArNet.metrics import *\n",
        "\n",
        "import torchvision\n",
        "import geffnet # efficient/ mobile net"
      ],
      "execution_count": null,
      "outputs": []
    },
    {
      "cell_type": "code",
      "metadata": {
        "id": "W4KP0L7zWVdx"
      },
      "source": [
        "def do_fit(learn, epochs,save_name, lrs=slice(1e-3), pct_start=0.9):\n",
        "    learn.fit_one_cycle(epochs, lrs, pct_start=pct_start)\n",
        "    learn.save(save_name)\n",
        "    learn.show_results(rows=1, imgsize=20)"
      ],
      "execution_count": null,
      "outputs": []
    },
    {
      "cell_type": "code",
      "metadata": {
        "id": "dFviKjQ2WVdy"
      },
      "source": [
        "path = Path('./dataset/')\n",
        "\n",
        "path_fullRes = path/'DIV2K_train_HR'\n",
        "\n",
        "path_lowRes_256 = path/'DIV2K_train_LR_256_QF20'\n",
        "path_lowRes_512 = path/'DIV2K_train_LR_512_QF20'\n",
        "path_lowRes_Full = path/'DIV2K_train_LR_Full_QF20'\n",
        "\n",
        "proj_id = 'unet_superRes_mobilenetV3_LPIPS'\n",
        "\n",
        "gen_name = proj_id + '_gen'\n",
        "crit_name = proj_id + '_crit'\n",
        "\n",
        "nf_factor = 2\n",
        "pct_start = 1e-8"
      ],
      "execution_count": null,
      "outputs": []
    },
    {
      "cell_type": "code",
      "metadata": {
        "id": "qTUUNCRLWVdy"
      },
      "source": [
        "model = geffnet.mobilenetv3_rw"
      ],
      "execution_count": null,
      "outputs": []
    },
    {
      "cell_type": "code",
      "metadata": {
        "id": "F_pz2iZGWVdz"
      },
      "source": [
        "# loss_func = FeatureLoss()\n",
        "# loss_func = msssim\n",
        "# loss_func = fid\n",
        "# loss_func = F.mse_loss\n",
        "loss_func = lpips_loss()"
      ],
      "execution_count": null,
      "outputs": []
    },
    {
      "cell_type": "markdown",
      "metadata": {
        "id": "BzupNUDOWVd3"
      },
      "source": [
        "# 256px"
      ]
    },
    {
      "cell_type": "code",
      "metadata": {
        "id": "ucduqLCLWVd3"
      },
      "source": [
        "bs=10\n",
        "sz=256\n",
        "lr = 1e-2\n",
        "wd = 1e-3\n",
        "epochs = 1"
      ],
      "execution_count": null,
      "outputs": []
    },
    {
      "cell_type": "code",
      "metadata": {
        "id": "Vwb8G4XTWVd4"
      },
      "source": [
        "data_gen = get_DIV2k_data_QF(path_lowRes_256, path_fullRes, bs=bs, sz=sz)"
      ],
      "execution_count": null,
      "outputs": []
    },
    {
      "cell_type": "code",
      "metadata": {
        "id": "IhCXdE6IWVd4"
      },
      "source": [
        "learn_gen = gen_learner_wide(data=data_gen,\n",
        "                             gen_loss=loss_func,\n",
        "                             arch = model,\n",
        "                             nf_factor=nf_factor)"
      ],
      "execution_count": null,
      "outputs": []
    },
    {
      "cell_type": "code",
      "metadata": {
        "id": "2upyniWxWVd5"
      },
      "source": [
        "learn_gen.metrics.append(SSIM_Metric_gen())\n",
        "learn_gen.metrics.append(SSIM_Metric_input())\n",
        "# learn_gen.metrics.append(LPIPS_Metric_gen())\n",
        "# learn_gen.metrics.append(LPIPS_Metric_input())\n",
        "learn_gen.metrics.append(BRISQUE_Metric_gen())\n",
        "learn_gen.metrics.append(BRISQUE_Metric_input())\n",
        "learn_gen.metrics.append(BRISQUE_Metric_target())\n",
        "learn_gen.metrics.append(NIQE_Metric_gen())\n",
        "learn_gen.metrics.append(NIQE_Metric_input())\n",
        "learn_gen.metrics.append(NIQE_Metric_target())"
      ],
      "execution_count": null,
      "outputs": []
    },
    {
      "cell_type": "code",
      "metadata": {
        "id": "Plz0epfzWVd8"
      },
      "source": [
        "wandbCallbacks = False\n",
        "\n",
        "if wandbCallbacks:\n",
        "    import wandb\n",
        "    from wandb.fastai import WandbCallback\n",
        "    config={\"batch_size\": bs,\n",
        "            \"img_size\": (sz, sz),\n",
        "            \"learning_rate\": lr,\n",
        "            \"weight_decay\": wd,\n",
        "            \"num_epochs\": epochs\n",
        "    }\n",
        "    wandb.init(project='SuperRes', config=config, id=\"unet_superRes_mobilenetV3_FID\"+ datetime.now().strftime('_%m-%d_%H:%M'))\n",
        "\n",
        "    learn_gen.callback_fns.append(partial(WandbCallback, input_type='images'))"
      ],
      "execution_count": null,
      "outputs": []
    },
    {
      "cell_type": "code",
      "metadata": {
        "scrolled": true,
        "id": "lVZrAgpZWVd9"
      },
      "source": [
        "# learn_gen.lr_find()\n",
        "# learn_gen.recorder.plot()\n",
        "# learn_gen.summary()"
      ],
      "execution_count": null,
      "outputs": []
    },
    {
      "cell_type": "code",
      "metadata": {
        "scrolled": true,
        "id": "rkOUCto5WVd9"
      },
      "source": [
        "do_fit(learn_gen, 1, gen_name+\"_256px_0\", slice(lr*10))"
      ],
      "execution_count": null,
      "outputs": []
    },
    {
      "cell_type": "code",
      "metadata": {
        "id": "tu-zJvlrWVd-"
      },
      "source": [
        "learn_gen.unfreeze()"
      ],
      "execution_count": null,
      "outputs": []
    },
    {
      "cell_type": "code",
      "metadata": {
        "id": "gLd_9_BjWVeA"
      },
      "source": [
        "do_fit(learn_gen, 3, gen_name+\"_256px_1\", lr)"
      ],
      "execution_count": null,
      "outputs": []
    },
    {
      "cell_type": "markdown",
      "metadata": {
        "id": "Ea0oL5ozWVeA"
      },
      "source": [
        "# 512px"
      ]
    },
    {
      "cell_type": "code",
      "metadata": {
        "id": "67-OebREWVeB"
      },
      "source": [
        "bs=2\n",
        "sz=512\n",
        "epochs = 1"
      ],
      "execution_count": null,
      "outputs": []
    },
    {
      "cell_type": "code",
      "metadata": {
        "id": "Jmff5aIUWVeB"
      },
      "source": [
        "data_gen = get_DIV2k_data_QF(path_lowRes_512, path_fullRes, bs=bs, sz=sz)"
      ],
      "execution_count": null,
      "outputs": []
    },
    {
      "cell_type": "code",
      "metadata": {
        "id": "zJ_9Bi8IWVeB",
        "outputId": "a69bf671-a5f7-488e-a237-97b203e41711"
      },
      "source": [
        "learn_gen.data = data_gen\n",
        "learn_gen.freeze()\n",
        "gc.collect()"
      ],
      "execution_count": null,
      "outputs": [
        {
          "output_type": "execute_result",
          "data": {
            "text/plain": [
              "6563"
            ]
          },
          "metadata": {
            "tags": []
          },
          "execution_count": 18
        }
      ]
    },
    {
      "cell_type": "code",
      "metadata": {
        "id": "nYXgNqfKWVeD"
      },
      "source": [
        "# learn_gen.load(gen_name+\"_256px_1\")"
      ],
      "execution_count": null,
      "outputs": []
    },
    {
      "cell_type": "code",
      "metadata": {
        "id": "EDrU-Xw8WVeD"
      },
      "source": [
        "# learn_gen.lr_find()\n",
        "# learn_gen.recorder.plot()"
      ],
      "execution_count": null,
      "outputs": []
    },
    {
      "cell_type": "code",
      "metadata": {
        "scrolled": true,
        "id": "LyJ6BM62WVeD"
      },
      "source": [
        "print(\"Upsize to gen_512\")\n",
        "\n",
        "do_fit(learn_gen, 3, gen_name+\"_512px_0\", slice(1e-3))"
      ],
      "execution_count": null,
      "outputs": []
    },
    {
      "cell_type": "code",
      "metadata": {
        "id": "AxOr_PqzWVeE"
      },
      "source": [
        "learn_gen.unfreeze()"
      ],
      "execution_count": null,
      "outputs": []
    },
    {
      "cell_type": "code",
      "metadata": {
        "id": "BS36vfd8WVeF"
      },
      "source": [
        "do_fit(learn_gen, 3, gen_name+\"_512px_1\", 1e-3)"
      ],
      "execution_count": null,
      "outputs": []
    },
    {
      "cell_type": "code",
      "metadata": {
        "scrolled": true,
        "id": "ZpGSDTPbWVeG"
      },
      "source": [
        "learn_gen.show_results(rows=10, imgsize=20)"
      ],
      "execution_count": null,
      "outputs": []
    },
    {
      "cell_type": "markdown",
      "metadata": {
        "id": "1sg4dvYjWVeG"
      },
      "source": [
        "# Quality 35"
      ]
    },
    {
      "cell_type": "code",
      "metadata": {
        "id": "BaORIb-LWVeG"
      },
      "source": [
        "bs=2\n",
        "sz=512\n",
        "epochs = 1\n",
        "\n",
        "path_lowRes_512 = path/'DIV2K_train_LR_512_QF35'"
      ],
      "execution_count": null,
      "outputs": []
    },
    {
      "cell_type": "code",
      "metadata": {
        "id": "0lR1XByZWVeH"
      },
      "source": [
        "data_gen = get_DIV2k_data_QF(path_lowRes_512, path_fullRes, bs=bs, sz=sz)"
      ],
      "execution_count": null,
      "outputs": []
    },
    {
      "cell_type": "code",
      "metadata": {
        "id": "-mSE5KSPWVeI",
        "outputId": "e59a995b-83cc-434f-a8bc-cec98fa61c59"
      },
      "source": [
        "learn_gen.data = data_gen\n",
        "learn_gen.freeze()\n",
        "gc.collect()"
      ],
      "execution_count": null,
      "outputs": [
        {
          "output_type": "execute_result",
          "data": {
            "text/plain": [
              "26433"
            ]
          },
          "metadata": {
            "tags": []
          },
          "execution_count": 27
        }
      ]
    },
    {
      "cell_type": "code",
      "metadata": {
        "id": "e9DwQ9R7WVeI"
      },
      "source": [
        "do_fit(learn_gen, 3, gen_name+\"_512px_2\", 1e-3)"
      ],
      "execution_count": null,
      "outputs": []
    },
    {
      "cell_type": "code",
      "metadata": {
        "id": "I1J3uP3lWVeJ"
      },
      "source": [
        "# learn_gen.load(gen_name+\"_512px_2\")"
      ],
      "execution_count": null,
      "outputs": []
    },
    {
      "cell_type": "code",
      "metadata": {
        "id": "4wajqaXnWVeJ"
      },
      "source": [
        "learn_gen.unfreeze()"
      ],
      "execution_count": null,
      "outputs": []
    },
    {
      "cell_type": "code",
      "metadata": {
        "id": "vnSs5LF7WVeK"
      },
      "source": [
        "do_fit(learn_gen, 3, gen_name+\"_512px_3\", slice(1e-3))"
      ],
      "execution_count": null,
      "outputs": []
    },
    {
      "cell_type": "markdown",
      "metadata": {
        "id": "X3E4YUfvWVeL"
      },
      "source": [
        "# Quality 50"
      ]
    },
    {
      "cell_type": "code",
      "metadata": {
        "id": "Vu-g-F1lWVeL"
      },
      "source": [
        "bs=2\n",
        "sz=512\n",
        "epochs = 1\n",
        "\n",
        "path_lowRes_512 = path/'DIV2K_train_LR_512_QF50'"
      ],
      "execution_count": null,
      "outputs": []
    },
    {
      "cell_type": "code",
      "metadata": {
        "id": "kkIqAS2zWVeL"
      },
      "source": [
        "data_gen = get_DIV2k_data_QF(path_lowRes_512, path_fullRes, bs=bs, sz=sz)"
      ],
      "execution_count": null,
      "outputs": []
    },
    {
      "cell_type": "code",
      "metadata": {
        "id": "OQLQR8ClWVeM",
        "outputId": "ee2d7749-23e7-417f-eb54-1d44d2ea5562"
      },
      "source": [
        "# learn_gen.data = data_gen\n",
        "# learn_gen.freeze()\n",
        "gc.collect()"
      ],
      "execution_count": null,
      "outputs": [
        {
          "output_type": "execute_result",
          "data": {
            "text/plain": [
              "0"
            ]
          },
          "metadata": {
            "tags": []
          },
          "execution_count": 18
        }
      ]
    },
    {
      "cell_type": "code",
      "metadata": {
        "id": "Az-chlZLWVeN"
      },
      "source": [
        "# learn_gen.lr_find()\n",
        "# learn_gen.recorder.plot()"
      ],
      "execution_count": null,
      "outputs": []
    },
    {
      "cell_type": "code",
      "metadata": {
        "id": "oO8JeYULWVeN"
      },
      "source": [
        "do_fit(learn_gen, 1, gen_name+\"_512px_4\", 1e-3)"
      ],
      "execution_count": null,
      "outputs": []
    },
    {
      "cell_type": "code",
      "metadata": {
        "id": "axSD5ALRWVeO"
      },
      "source": [
        "learn_gen.load(gen_name+\"_512px_4\")"
      ],
      "execution_count": null,
      "outputs": []
    },
    {
      "cell_type": "code",
      "metadata": {
        "id": "DxZceKx3WVeP"
      },
      "source": [
        "learn_gen.unfreeze()"
      ],
      "execution_count": null,
      "outputs": []
    },
    {
      "cell_type": "code",
      "metadata": {
        "scrolled": true,
        "id": "p1gQshQ2WVeP"
      },
      "source": [
        "do_fit(learn_gen, 3, gen_name+\"_512px_5\", slice(1e-3))"
      ],
      "execution_count": null,
      "outputs": []
    },
    {
      "cell_type": "markdown",
      "metadata": {
        "id": "CEeFxvOeWVeR"
      },
      "source": [
        "# Fine Tune patch model"
      ]
    },
    {
      "cell_type": "code",
      "metadata": {
        "id": "-5mMRz4xWVeR"
      },
      "source": [
        "bs=2\n",
        "sz=512\n",
        "lr = 1e-2\n",
        "wd = 1e-3\n",
        "epochs = 1"
      ],
      "execution_count": null,
      "outputs": []
    },
    {
      "cell_type": "code",
      "metadata": {
        "id": "37_oaBCNWVeS"
      },
      "source": [
        "data_gen = get_DIV2k_data_QF(path_lowRes_512, path_fullRes, bs=bs, sz=sz)"
      ],
      "execution_count": null,
      "outputs": []
    },
    {
      "cell_type": "code",
      "metadata": {
        "id": "S1dZC9EiWVeS"
      },
      "source": [
        "learn_gen = gen_learner_wide(data=data_gen,\n",
        "                             gen_loss=loss_func,\n",
        "                             arch = model,\n",
        "                             nf_factor=nf_factor)"
      ],
      "execution_count": null,
      "outputs": []
    },
    {
      "cell_type": "code",
      "metadata": {
        "id": "2F9ZDbHbWVeT"
      },
      "source": [
        "learn_gen.metrics.append(SSIM_Metric_gen())\n",
        "learn_gen.metrics.append(SSIM_Metric_input())\n",
        "learn_gen.metrics.append(BRISQUE_Metric_gen())\n",
        "learn_gen.metrics.append(BRISQUE_Metric_input())\n",
        "learn_gen.metrics.append(BRISQUE_Metric_target())\n",
        "learn_gen.metrics.append(NIQE_Metric_gen())\n",
        "learn_gen.metrics.append(NIQE_Metric_input())\n",
        "learn_gen.metrics.append(NIQE_Metric_target())"
      ],
      "execution_count": null,
      "outputs": []
    },
    {
      "cell_type": "code",
      "metadata": {
        "id": "Y9NiuaGpWVeT"
      },
      "source": [
        "learn_gen.load(\"/data/students_home/fmameli/repos/Artifact_Removal_GAN/dataset/DIV2K_train_LR_Patches/64px_FullQF20/models/unet_superRes_mobilenetV3_Patches64px_gen_64px_2\")"
      ],
      "execution_count": null,
      "outputs": []
    },
    {
      "cell_type": "code",
      "metadata": {
        "id": "d8NvEjSfWVeU"
      },
      "source": [
        "do_fit(learn_gen, 1, gen_name+\"_512px_5\", 1e-3)"
      ],
      "execution_count": null,
      "outputs": []
    },
    {
      "cell_type": "code",
      "metadata": {
        "id": "82SYGDs5WVeV"
      },
      "source": [
        "learn_gen.unfreeze()"
      ],
      "execution_count": null,
      "outputs": []
    },
    {
      "cell_type": "code",
      "metadata": {
        "id": "a8yyN67DWVeV"
      },
      "source": [
        "do_fit(learn_gen, 3, gen_name+\"_512px_5\", 1e-3)"
      ],
      "execution_count": null,
      "outputs": []
    },
    {
      "cell_type": "code",
      "metadata": {
        "scrolled": true,
        "id": "tF9zs4M6WVeW"
      },
      "source": [
        "learn_gen.show_results(rows=5, imgsize=15)"
      ],
      "execution_count": null,
      "outputs": []
    },
    {
      "cell_type": "markdown",
      "metadata": {
        "id": "M8Kw5H76WVeX"
      },
      "source": [
        "# Test"
      ]
    },
    {
      "cell_type": "code",
      "metadata": {
        "id": "XjRP7bwiWVeX"
      },
      "source": [
        "bs=1\n",
        "sz=512\n",
        "epochs = 1"
      ],
      "execution_count": null,
      "outputs": []
    },
    {
      "cell_type": "code",
      "metadata": {
        "id": "gbrFAwBcWVeX"
      },
      "source": [
        "path_lowRes_512 = path/'DIV2K_train_LR_512_QF20'\n",
        "size=( 512, 680)"
      ],
      "execution_count": null,
      "outputs": []
    },
    {
      "cell_type": "code",
      "metadata": {
        "id": "xq6yZ5q2WVeX"
      },
      "source": [
        "data_1k = (ImageImageList.from_folder(path_lowRes_512, presort=True).split_by_idxs(\n",
        "            train_idx=list(range(0, 800)), valid_idx=list(range(800, 900)))\n",
        "          .label_from_func(lambda x: path_fullRes/x.name.replace(\".jpg\", \".png\"))\n",
        "          .transform(get_transforms(), size=size, tfm_y=True)\n",
        "          .databunch(bs=1).normalize(imagenet_stats, do_y=True))\n",
        "data_1k.c = 3"
      ],
      "execution_count": null,
      "outputs": []
    },
    {
      "cell_type": "code",
      "metadata": {
        "id": "2ASejpCwWVeY",
        "outputId": "76d2bfc1-ec51-472d-9473-ba1a7ad4f31c"
      },
      "source": [
        "learn_gen.data = data_1k\n",
        "learn_gen.freeze()\n",
        "gc.collect()"
      ],
      "execution_count": null,
      "outputs": [
        {
          "output_type": "execute_result",
          "data": {
            "text/plain": [
              "20088"
            ]
          },
          "metadata": {
            "tags": []
          },
          "execution_count": 26
        }
      ]
    },
    {
      "cell_type": "code",
      "metadata": {
        "id": "B13tuuWIWVeZ"
      },
      "source": [
        "learn_gen.load(\"/data/students_home/fmameli/repos/Artifact_Removal_GAN/dataset/DIV2K_train_LR_Patches/64px_FullQF20/models/unet_superRes_mobilenetV3_Patches64px_gen_64px_2\")"
      ],
      "execution_count": null,
      "outputs": []
    },
    {
      "cell_type": "code",
      "metadata": {
        "id": "Yb05SilVWVeZ",
        "outputId": "363b178b-5022-4634-ed36-0b5b6548d2a2"
      },
      "source": [
        "fn = data_1k.valid_dl.x.items[2]; fn"
      ],
      "execution_count": null,
      "outputs": [
        {
          "output_type": "execute_result",
          "data": {
            "text/plain": [
              "PosixPath('dataset/DIV2K_train_LR_512_QF20/0803.jpg')"
            ]
          },
          "metadata": {
            "tags": []
          },
          "execution_count": 32
        }
      ]
    },
    {
      "cell_type": "code",
      "metadata": {
        "id": "W9JGI9hTWVeb",
        "outputId": "e80b8946-cd47-4da6-faab-469f6583a62a"
      },
      "source": [
        "img = open_image(fn); print(img.shape)\n",
        "p,img_hr,b = learn_gen.predict(img)"
      ],
      "execution_count": null,
      "outputs": [
        {
          "output_type": "stream",
          "text": [
            "torch.Size([3, 512, 680])\n"
          ],
          "name": "stdout"
        }
      ]
    },
    {
      "cell_type": "code",
      "metadata": {
        "id": "eKoBwOYDWVec"
      },
      "source": [
        "show_image(img, figsize=(15,15), interpolation='nearest');"
      ],
      "execution_count": null,
      "outputs": []
    },
    {
      "cell_type": "code",
      "metadata": {
        "id": "nO2EVOQtWVed"
      },
      "source": [
        "Image(img_hr).show(figsize=(15,15))"
      ],
      "execution_count": null,
      "outputs": []
    }
  ]
}