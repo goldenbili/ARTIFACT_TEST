{
  "nbformat": 4,
  "nbformat_minor": 0,
  "metadata": {
    "kernelspec": {
      "display_name": "Python 3",
      "language": "python",
      "name": "python3"
    },
    "language_info": {
      "codemirror_mode": {
        "name": "ipython",
        "version": 3
      },
      "file_extension": ".py",
      "mimetype": "text/x-python",
      "name": "python",
      "nbconvert_exporter": "python",
      "pygments_lexer": "ipython3",
      "version": "3.6.9"
    },
    "colab": {
      "name": "Training_unet_LPIPS_full_img.ipynb",
      "provenance": [],
      "toc_visible": true
    },
    "accelerator": "GPU"
  },
  "cells": [
    {
      "cell_type": "code",
      "metadata": {
        "id": "dKJo-4XYZNS7",
        "colab": {
          "base_uri": "https://localhost:8080/"
        },
        "outputId": "764624a1-67c2-4f17-c9e4-df67b81a2131"
      },
      "source": [
        "!apt-get install -y -qq software-properties-common python-software-properties module-init-tools\n",
        "!add-apt-repository -y ppa:alessandro-strada/ppa 2>&1 > /dev/null\n",
        "!apt-get update -qq 2>&1 > /dev/null\n",
        "!apt-get -y install -qq google-drive-ocamlfuse fuse\n",
        " \n",
        "from google.colab import auth\n",
        "auth.authenticate_user()\n",
        "from oauth2client.client import GoogleCredentials\n",
        "creds = GoogleCredentials.get_application_default()\n",
        "import getpass\n",
        "!google-drive-ocamlfuse -headless -id={creds.client_id} -secret={creds.client_secret} < /dev/null 2>&1 | grep URL\n",
        "vcode = getpass.getpass()\n",
        "!echo {vcode} | google-drive-ocamlfuse -headless -id={creds.client_id} -secret={creds.client_secret}\n",
        " \n",
        " \n",
        "import datetime\n",
        "import json\n",
        "import os\n",
        "import pprint\n",
        "import random\n",
        "import string\n",
        "import sys\n",
        "import tensorflow as tf"
      ],
      "execution_count": null,
      "outputs": [
        {
          "output_type": "stream",
          "text": [
            "E: Package 'python-software-properties' has no installation candidate\n",
            "Selecting previously unselected package google-drive-ocamlfuse.\n",
            "(Reading database ... 160983 files and directories currently installed.)\n",
            "Preparing to unpack .../google-drive-ocamlfuse_0.7.24-0ubuntu1~ubuntu18.04.1_amd64.deb ...\n",
            "Unpacking google-drive-ocamlfuse (0.7.24-0ubuntu1~ubuntu18.04.1) ...\n",
            "Setting up google-drive-ocamlfuse (0.7.24-0ubuntu1~ubuntu18.04.1) ...\n",
            "Processing triggers for man-db (2.8.3-2ubuntu0.1) ...\n",
            "Please, open the following URL in a web browser: https://accounts.google.com/o/oauth2/auth?client_id=32555940559.apps.googleusercontent.com&redirect_uri=urn%3Aietf%3Awg%3Aoauth%3A2.0%3Aoob&scope=https%3A%2F%2Fwww.googleapis.com%2Fauth%2Fdrive&response_type=code&access_type=offline&approval_prompt=force\n",
            "··········\n",
            "Please, open the following URL in a web browser: https://accounts.google.com/o/oauth2/auth?client_id=32555940559.apps.googleusercontent.com&redirect_uri=urn%3Aietf%3Awg%3Aoauth%3A2.0%3Aoob&scope=https%3A%2F%2Fwww.googleapis.com%2Fauth%2Fdrive&response_type=code&access_type=offline&approval_prompt=force\n",
            "Please enter the verification code: Access token retrieved correctly.\n"
          ],
          "name": "stdout"
        }
      ]
    },
    {
      "cell_type": "code",
      "metadata": {
        "id": "hBs03U1eZQKS",
        "colab": {
          "base_uri": "https://localhost:8080/"
        },
        "outputId": "b2c13628-5872-4cd1-b71d-0d460dc66364"
      },
      "source": [
        "# Load the Drive helper and mount\n",
        "from google.colab import drive\n",
        "# This will prompt for authorization.\n",
        "drive.mount('/content/drive')"
      ],
      "execution_count": null,
      "outputs": [
        {
          "output_type": "stream",
          "text": [
            "Mounted at /content/drive\n"
          ],
          "name": "stdout"
        }
      ]
    },
    {
      "cell_type": "code",
      "metadata": {
        "id": "mXaTMHZkZSdd"
      },
      "source": [
        "!python3.7 -m pip install nvidia-ml-py3\n",
        "!python3.7 -m pip install fastai==1.0.61\n",
        "!python3.7 -m pip install lpips==0.1.3\n",
        "!sudo apt-get install libsvm-dev\n",
        "!python3.7 -m pip install pybrisque\n",
        "!python3.7 -m pip install sk-video\n",
        "!python3.7 -m pip install geffnet"
      ],
      "execution_count": null,
      "outputs": []
    },
    {
      "cell_type": "code",
      "metadata": {
        "id": "e48zH23QZVKi"
      },
      "source": [
        "%cd /content/\n",
        "!wget https://github.com/cjlin1/libsvm/archive/refs/tags/v324.tar.gz\n",
        "!tar zxvf v324.tar.gz\n",
        "%cd libsvm-324/\n",
        "!make clean\n",
        "!make\n",
        "!rm /content/v324.tar.gz"
      ],
      "execution_count": null,
      "outputs": []
    },
    {
      "cell_type": "code",
      "metadata": {
        "colab": {
          "base_uri": "https://localhost:8080/"
        },
        "id": "4rTOJZtoMSs8",
        "outputId": "851c4e69-702e-4552-b7bb-42200c538dc4"
      },
      "source": [
        "%cd /content/libsvm-324/\n",
        "!make clean\n",
        "!make"
      ],
      "execution_count": 10,
      "outputs": [
        {
          "output_type": "stream",
          "text": [
            "/content/libsvm-324\n",
            "rm -f *~ svm.o svm-train svm-predict svm-scale libsvm.so.2\n",
            "g++ -Wall -Wconversion -O3 -fPIC -c svm.cpp\n",
            "g++ -Wall -Wconversion -O3 -fPIC svm-train.c svm.o -o svm-train -lm\n",
            "g++ -Wall -Wconversion -O3 -fPIC svm-predict.c svm.o -o svm-predict -lm\n",
            "g++ -Wall -Wconversion -O3 -fPIC svm-scale.c -o svm-scale\n"
          ],
          "name": "stdout"
        }
      ]
    },
    {
      "cell_type": "code",
      "metadata": {
        "colab": {
          "base_uri": "https://localhost:8080/"
        },
        "id": "tPPo3ohwZm7J",
        "outputId": "98346142-f9e0-473f-e672-328e68e2c905"
      },
      "source": [
        "%tensorflow_version 2.x\n",
        "import tensorflow as tf\n",
        "device_name = tf.test.gpu_device_name()\n",
        "if device_name != '/device:GPU:0':\n",
        "  raise SystemError('GPU device not found')\n",
        "print('Found GPU at: {}'.format(device_name))"
      ],
      "execution_count": 2,
      "outputs": [
        {
          "output_type": "stream",
          "text": [
            "Found GPU at: /device:GPU:0\n"
          ],
          "name": "stdout"
        }
      ]
    },
    {
      "cell_type": "code",
      "metadata": {
        "id": "i-XWA5bIaiFS"
      },
      "source": [
        "# source code in github main\n",
        "%cd /content/\n",
        "!cp -R /content/drive/MyDrive/ARGAN-Temp/Artifact_Removal_GAN/ /content/\n",
        "if not 'Artifact_Removal_GAN' in sys.path:\n",
        "  sys.path += ['Artifact_Removal_GAN']\n",
        "%cd Artifact_Removal_GAN/\n",
        "!mkdir models\n",
        "!wget -P /content/Artifact_Removal_GAN/models/ https://github.com/mameli/Artifact_Removal_GAN/releases/download/1.1/standard.pkl"
      ],
      "execution_count": null,
      "outputs": []
    },
    {
      "cell_type": "code",
      "metadata": {
        "id": "NQWrUoH_WVdf"
      },
      "source": [
        "import sys\n",
        "sys.path.append('/content/libsvm-324/python')\n",
        "import os\n",
        "os.environ['CUDA_VISIBLE_DEVICES']='0'\n",
        "\n",
        "from fastai import *\n",
        "from fastai.vision import *\n",
        "from fastai.vision.gan import *\n",
        "from ArNet.generators import *\n",
        "from ArNet.critics import *\n",
        "from ArNet.dataset import *\n",
        "from ArNet.loss import *\n",
        "from ArNet.save import *\n",
        "from ArNet.fid_loss import *\n",
        "from ArNet.ssim import *\n",
        "from ArNet.metrics import *\n",
        "\n",
        "import torchvision\n",
        "import geffnet # efficient/ mobile net"
      ],
      "execution_count": 50,
      "outputs": []
    },
    {
      "cell_type": "code",
      "metadata": {
        "id": "X7NXKS1cuNP4"
      },
      "source": [
        "!nvidia-smi"
      ],
      "execution_count": null,
      "outputs": []
    },
    {
      "cell_type": "code",
      "metadata": {
        "id": "W4KP0L7zWVdx"
      },
      "source": [
        "def do_fit(learn, epochs,save_name, lrs=slice(1e-3), pct_start=0.9):\n",
        "    learn.fit_one_cycle(epochs, lrs, pct_start=pct_start)\n",
        "    learn.save(save_name)\n",
        "    learn.show_results(rows=1, imgsize=20)"
      ],
      "execution_count": 74,
      "outputs": []
    },
    {
      "cell_type": "code",
      "metadata": {
        "id": "R-JP_7qia3G8"
      },
      "source": [
        "%cd dataset/\n",
        "!wget http://data.vision.ee.ethz.ch/cvl/DIV2K/DIV2K_train_HR.zip\n",
        "!unzip DIV2K_train_HR.zip\n",
        "!rm DIV2K_train_HR.zip\n",
        "%cd /content/Artifact_Removal_GAN/"
      ],
      "execution_count": null,
      "outputs": []
    },
    {
      "cell_type": "code",
      "metadata": {
        "id": "xRSGWKejjbNC"
      },
      "source": [
        "%cd dataset/\n",
        "!wget http://data.vision.ee.ethz.ch/cvl/DIV2K/DIV2K_valid_HR.zip\n",
        "!unzip DIV2K_valid_HR.zip\n",
        "!mv DIV2K_valid_HR/ DIV2K_train_HR/\n",
        "!rm DIV2K_valid_HR.zip\n",
        "%cd /content/Artifact_Removal_GAN/"
      ],
      "execution_count": null,
      "outputs": []
    },
    {
      "cell_type": "code",
      "metadata": {
        "id": "GAzClkfNmGZd"
      },
      "source": [
        "!cp /content/drive/MyDrive/MyTrainData/* dataset/DIV2K_train_HR/"
      ],
      "execution_count": null,
      "outputs": []
    },
    {
      "cell_type": "code",
      "metadata": {
        "id": "nVX9CMtWCLZE"
      },
      "source": [
        "!cp dataset/DIV2K_train_HR/*  /content/drive/MyDrive/MyOriData/"
      ],
      "execution_count": 12,
      "outputs": []
    },
    {
      "cell_type": "code",
      "metadata": {
        "id": "VHTQ27ST9qKx"
      },
      "source": [
        "!rm -R ./dataset/DIV2K_train"
      ],
      "execution_count": null,
      "outputs": []
    },
    {
      "cell_type": "code",
      "metadata": {
        "id": "jF4CESTNlCFz"
      },
      "source": [
        "!rm -R ./dataset/DIV2K_train_LR_256_QF20\n",
        "!rm -R ./dataset/DIV2K_train_LR_512_QF20\n",
        "!rm -R ./dataset/DIV2K_train_LR_Full_QF20"
      ],
      "execution_count": null,
      "outputs": []
    },
    {
      "cell_type": "code",
      "metadata": {
        "id": "dFviKjQ2WVdy"
      },
      "source": [
        "path = Path('./dataset/')\n",
        "\n",
        "path_fullRes = path/'DIV2K_train_HR'\n",
        "\n",
        "path_lowRes_256 = path/'DIV2K_train_LR_256_QF20'\n",
        "path_lowRes_512 = path/'DIV2K_train_LR_512_QF20'\n",
        "path_lowRes_Full = path/'DIV2K_train_LR_Full_QF20'\n",
        "\n",
        "proj_id = 'unet_superRes_mobilenetV3_LPIPS'\n",
        "\n",
        "gen_name = proj_id + '_gen'\n",
        "crit_name = proj_id + '_crit'\n",
        "\n",
        "nf_factor = 2\n",
        "pct_start = 1e-8"
      ],
      "execution_count": 52,
      "outputs": []
    },
    {
      "cell_type": "code",
      "metadata": {
        "colab": {
          "base_uri": "https://localhost:8080/",
          "height": 51
        },
        "id": "YJetPpvghy0-",
        "outputId": "2f74b3ca-b54f-41c3-e941-ae63affd89b3"
      },
      "source": [
        "datasets = [(path_lowRes_256, 256, 20)]\n",
        "create_dataset(path_fullRes, datasets, downsize=False)"
      ],
      "execution_count": 16,
      "outputs": [
        {
          "output_type": "stream",
          "text": [
            "Creating dataset/DIV2K_train_LR_256_QF20\n",
            "Size: 256 with 20 quality factor\n"
          ],
          "name": "stdout"
        },
        {
          "output_type": "display_data",
          "data": {
            "text/html": [
              ""
            ],
            "text/plain": [
              "<IPython.core.display.HTML object>"
            ]
          },
          "metadata": {
            "tags": []
          }
        }
      ]
    },
    {
      "cell_type": "code",
      "metadata": {
        "colab": {
          "base_uri": "https://localhost:8080/",
          "height": 51
        },
        "id": "tJIJWgxecpdP",
        "outputId": "eae9f912-e438-49e8-8ba0-84cf22daad2f"
      },
      "source": [
        "datasets = [(path_lowRes_Full, 0, 20)]\n",
        "create_dataset(path_fullRes, datasets, downsize=False)"
      ],
      "execution_count": null,
      "outputs": [
        {
          "output_type": "stream",
          "text": [
            "Creating dataset/DIV2K_train_LR_Full_QF20\n",
            "Size: 0 with 20 quality factor\n"
          ],
          "name": "stdout"
        },
        {
          "output_type": "display_data",
          "data": {
            "text/html": [
              ""
            ],
            "text/plain": [
              "<IPython.core.display.HTML object>"
            ]
          },
          "metadata": {
            "tags": []
          }
        }
      ]
    },
    {
      "cell_type": "code",
      "metadata": {
        "id": "qTUUNCRLWVdy"
      },
      "source": [
        "model = geffnet.mobilenetv3_rw"
      ],
      "execution_count": 53,
      "outputs": []
    },
    {
      "cell_type": "code",
      "metadata": {
        "id": "F_pz2iZGWVdz",
        "colab": {
          "base_uri": "https://localhost:8080/"
        },
        "outputId": "dd8f1461-026d-4a6d-b785-104acefffc87"
      },
      "source": [
        "# loss_func = FeatureLoss()\n",
        "# loss_func = msssim\n",
        "# loss_func = fid\n",
        "# loss_func = F.mse_loss\n",
        "loss_func = lpips_loss()"
      ],
      "execution_count": 54,
      "outputs": [
        {
          "output_type": "stream",
          "text": [
            "Setting up [LPIPS] perceptual loss: trunk [vgg], v[0.1], spatial [on]\n",
            "Loading model from: /usr/local/lib/python3.7/dist-packages/lpips/weights/v0.1/vgg.pth\n"
          ],
          "name": "stdout"
        }
      ]
    },
    {
      "cell_type": "markdown",
      "metadata": {
        "id": "BzupNUDOWVd3"
      },
      "source": [
        "# 256px"
      ]
    },
    {
      "cell_type": "code",
      "metadata": {
        "id": "ucduqLCLWVd3"
      },
      "source": [
        "bs=10\n",
        "sz=256\n",
        "lr = 1e-2\n",
        "wd = 1e-3\n",
        "epochs = 10"
      ],
      "execution_count": 55,
      "outputs": []
    },
    {
      "cell_type": "code",
      "metadata": {
        "id": "ZicQ9RTBrU7M"
      },
      "source": [
        "!pip install \"torch==1.4\" \"torchvision==0.5.0\""
      ],
      "execution_count": null,
      "outputs": []
    },
    {
      "cell_type": "code",
      "metadata": {
        "id": "xNPAJqZdZX2S"
      },
      "source": [
        "!pip install wandb"
      ],
      "execution_count": null,
      "outputs": []
    },
    {
      "cell_type": "code",
      "metadata": {
        "id": "k9BOYPDvd2ps"
      },
      "source": [
        "!pip install --upgrade wandb==0.10.8"
      ],
      "execution_count": null,
      "outputs": []
    },
    {
      "cell_type": "code",
      "metadata": {
        "colab": {
          "base_uri": "https://localhost:8080/"
        },
        "id": "3NKO9HrrsLrJ",
        "outputId": "fcd2af9e-531f-4795-efa8-266c6c4484ba"
      },
      "source": [
        "%cd /content/Artifact_Removal_GAN/ "
      ],
      "execution_count": 56,
      "outputs": [
        {
          "output_type": "stream",
          "text": [
            "/content/Artifact_Removal_GAN\n"
          ],
          "name": "stdout"
        }
      ]
    },
    {
      "cell_type": "code",
      "metadata": {
        "id": "Vwb8G4XTWVd4"
      },
      "source": [
        "data_gen = get_DIV2k_data_QF(path_lowRes_256, path_fullRes, bs=bs, sz=sz)"
      ],
      "execution_count": 43,
      "outputs": []
    },
    {
      "cell_type": "code",
      "metadata": {
        "id": "8DlOhWr5Kjnw"
      },
      "source": [
        "data_gen = get_DIV2k_data_QF(path_lowRes_Full, path_fullRes, bs=bs, sz=sz)"
      ],
      "execution_count": 57,
      "outputs": []
    },
    {
      "cell_type": "code",
      "metadata": {
        "id": "l9TkvKkClam7"
      },
      "source": [
        "loss_func=loss_func.cuda()"
      ],
      "execution_count": null,
      "outputs": []
    },
    {
      "cell_type": "code",
      "metadata": {
        "id": "IhCXdE6IWVd4"
      },
      "source": [
        "learn_gen = gen_learner_wide(data=data_gen,\n",
        "                             gen_loss=loss_func,\n",
        "                             arch = model,\n",
        "                             nf_factor=nf_factor)"
      ],
      "execution_count": 69,
      "outputs": []
    },
    {
      "cell_type": "code",
      "metadata": {
        "colab": {
          "base_uri": "https://localhost:8080/"
        },
        "id": "BXx0ngDnOE1R",
        "outputId": "346bebd7-3104-4da8-dbd0-690680fd8f1b"
      },
      "source": [
        "learn_gen.metrics.append(LPIPS_Metric_gen())\n",
        "learn_gen.metrics.append(LPIPS_Metric_input())"
      ],
      "execution_count": 70,
      "outputs": [
        {
          "output_type": "stream",
          "text": [
            "Setting up [LPIPS] perceptual loss: trunk [alex], v[0.1], spatial [on]\n",
            "Loading model from: /usr/local/lib/python3.7/dist-packages/lpips/weights/v0.1/alex.pth\n",
            "Setting up [LPIPS] perceptual loss: trunk [alex], v[0.1], spatial [on]\n",
            "Loading model from: /usr/local/lib/python3.7/dist-packages/lpips/weights/v0.1/alex.pth\n"
          ],
          "name": "stdout"
        }
      ]
    },
    {
      "cell_type": "code",
      "metadata": {
        "id": "2upyniWxWVd5"
      },
      "source": [
        "learn_gen.metrics.append(SSIM_Metric_gen())\n",
        "learn_gen.metrics.append(SSIM_Metric_input())\n",
        "# learn_gen.metrics.append(LPIPS_Metric_gen())\n",
        "# learn_gen.metrics.append(LPIPS_Metric_input())\n",
        "learn_gen.metrics.append(BRISQUE_Metric_gen())\n",
        "learn_gen.metrics.append(BRISQUE_Metric_input())\n",
        "learn_gen.metrics.append(BRISQUE_Metric_target())\n",
        "learn_gen.metrics.append(NIQE_Metric_gen())\n",
        "learn_gen.metrics.append(NIQE_Metric_input())\n",
        "learn_gen.metrics.append(NIQE_Metric_target())"
      ],
      "execution_count": null,
      "outputs": []
    },
    {
      "cell_type": "code",
      "metadata": {
        "id": "RZ52qMJXk7YL"
      },
      "source": [
        "!print(loss_func.model.parameters())"
      ],
      "execution_count": null,
      "outputs": []
    },
    {
      "cell_type": "code",
      "metadata": {
        "id": "Plz0epfzWVd8",
        "colab": {
          "base_uri": "https://localhost:8080/",
          "height": 510
        },
        "outputId": "29ede963-9694-437c-ab22-ed6db0a73297"
      },
      "source": [
        "wandbCallbacks = True\n",
        "import datetime\n",
        "\n",
        "if wandbCallbacks:\n",
        "    import wandb\n",
        "    from wandb.fastai import WandbCallback\n",
        "    config={\"batch_size\": bs,\n",
        "            \"img_size\": (sz, sz),\n",
        "            \"learning_rate\": lr,\n",
        "            \"weight_decay\": wd,\n",
        "            \"num_epochs\": epochs\n",
        "    }\n",
        "    wandb.init(project='SuperRes', config=config, id=\"unet_superRes_mobilenetV3_FID\"+ datetime.datetime.now().strftime('_%m-%d_%H:%M'))\n",
        "\n",
        "    learn_gen.callback_fns.append(partial(WandbCallback, input_type='images'))"
      ],
      "execution_count": 71,
      "outputs": [
        {
          "output_type": "stream",
          "text": [
            "Problem at: <ipython-input-71-66c98a880d97> 13 <module>\n"
          ],
          "name": "stdout"
        },
        {
          "output_type": "error",
          "ename": "UsageError",
          "evalue": "ignored",
          "traceback": [
            "\u001b[0;31m---------------------------------------------------------------------------\u001b[0m",
            "\u001b[0;31mUsageError\u001b[0m                                Traceback (most recent call last)",
            "\u001b[0;32m<ipython-input-71-66c98a880d97>\u001b[0m in \u001b[0;36m<module>\u001b[0;34m()\u001b[0m\n\u001b[1;32m     11\u001b[0m             \u001b[0;34m\"num_epochs\"\u001b[0m\u001b[0;34m:\u001b[0m \u001b[0mepochs\u001b[0m\u001b[0;34m\u001b[0m\u001b[0;34m\u001b[0m\u001b[0m\n\u001b[1;32m     12\u001b[0m     }\n\u001b[0;32m---> 13\u001b[0;31m     \u001b[0mwandb\u001b[0m\u001b[0;34m.\u001b[0m\u001b[0minit\u001b[0m\u001b[0;34m(\u001b[0m\u001b[0mproject\u001b[0m\u001b[0;34m=\u001b[0m\u001b[0;34m'SuperRes'\u001b[0m\u001b[0;34m,\u001b[0m \u001b[0mconfig\u001b[0m\u001b[0;34m=\u001b[0m\u001b[0mconfig\u001b[0m\u001b[0;34m,\u001b[0m \u001b[0mid\u001b[0m\u001b[0;34m=\u001b[0m\u001b[0;34m\"unet_superRes_mobilenetV3_FID\"\u001b[0m\u001b[0;34m+\u001b[0m \u001b[0mdatetime\u001b[0m\u001b[0;34m.\u001b[0m\u001b[0mdatetime\u001b[0m\u001b[0;34m.\u001b[0m\u001b[0mnow\u001b[0m\u001b[0;34m(\u001b[0m\u001b[0;34m)\u001b[0m\u001b[0;34m.\u001b[0m\u001b[0mstrftime\u001b[0m\u001b[0;34m(\u001b[0m\u001b[0;34m'_%m-%d_%H:%M'\u001b[0m\u001b[0;34m)\u001b[0m\u001b[0;34m)\u001b[0m\u001b[0;34m\u001b[0m\u001b[0;34m\u001b[0m\u001b[0m\n\u001b[0m\u001b[1;32m     14\u001b[0m \u001b[0;34m\u001b[0m\u001b[0m\n\u001b[1;32m     15\u001b[0m     \u001b[0mlearn_gen\u001b[0m\u001b[0;34m.\u001b[0m\u001b[0mcallback_fns\u001b[0m\u001b[0;34m.\u001b[0m\u001b[0mappend\u001b[0m\u001b[0;34m(\u001b[0m\u001b[0mpartial\u001b[0m\u001b[0;34m(\u001b[0m\u001b[0mWandbCallback\u001b[0m\u001b[0;34m,\u001b[0m \u001b[0minput_type\u001b[0m\u001b[0;34m=\u001b[0m\u001b[0;34m'images'\u001b[0m\u001b[0;34m)\u001b[0m\u001b[0;34m)\u001b[0m\u001b[0;34m\u001b[0m\u001b[0;34m\u001b[0m\u001b[0m\n",
            "\u001b[0;32m/usr/local/lib/python3.7/dist-packages/wandb/sdk/wandb_init.py\u001b[0m in \u001b[0;36minit\u001b[0;34m(job_type, dir, config, project, entity, reinit, tags, group, name, notes, magic, config_exclude_keys, config_include_keys, anonymous, mode, allow_val_change, resume, force, tensorboard, sync_tensorboard, monitor_gym, save_code, id, settings)\u001b[0m\n",
            "\u001b[0;32m/usr/local/lib/python3.7/dist-packages/wandb/sdk/wandb_init.py\u001b[0m in \u001b[0;36minit\u001b[0;34m(self)\u001b[0m\n",
            "\u001b[0;31mUsageError\u001b[0m: Error communicating with wandb process\ntry: wandb.init(settings=wandb.Settings(start_method='fork'))\nor:  wandb.init(settings=wandb.Settings(start_method='thread'))\nFor more info see: https://docs.wandb.ai/library/init#init-start-error"
          ]
        }
      ]
    },
    {
      "cell_type": "code",
      "metadata": {
        "id": "bB4tPWLMed01"
      },
      "source": [
        "!lsb_release -a"
      ],
      "execution_count": null,
      "outputs": []
    },
    {
      "cell_type": "code",
      "metadata": {
        "scrolled": true,
        "id": "lVZrAgpZWVd9",
        "colab": {
          "base_uri": "https://localhost:8080/",
          "height": 95
        },
        "outputId": "b8114de9-49bc-4880-e7e6-18d30bb18639"
      },
      "source": [
        "learn_gen.lr_find()\n",
        "learn_gen.recorder.plot()\n",
        "learn_gen.summary()"
      ],
      "execution_count": null,
      "outputs": [
        {
          "output_type": "display_data",
          "data": {
            "text/html": [
              "\n",
              "    <div>\n",
              "        <style>\n",
              "            /* Turns off some styling */\n",
              "            progress {\n",
              "                /* gets rid of default border in Firefox and Opera. */\n",
              "                border: none;\n",
              "                /* Needs to be in here for Safari polyfill so background images work as expected. */\n",
              "                background-size: auto;\n",
              "            }\n",
              "            .progress-bar-interrupted, .progress-bar-interrupted::-webkit-progress-bar {\n",
              "                background: #F44336;\n",
              "            }\n",
              "        </style>\n",
              "      <progress value='0' class='' max='2' style='width:300px; height:20px; vertical-align: middle;'></progress>\n",
              "      0.00% [0/2 00:00<00:00]\n",
              "    </div>\n",
              "    \n",
              "<table border=\"1\" class=\"dataframe\">\n",
              "  <thead>\n",
              "    <tr style=\"text-align: left;\">\n",
              "      <th>epoch</th>\n",
              "      <th>train_loss</th>\n",
              "      <th>valid_loss</th>\n",
              "      <th>lpips_gen</th>\n",
              "      <th>lpips_in</th>\n",
              "      <th>time</th>\n",
              "    </tr>\n",
              "  </thead>\n",
              "  <tbody>\n",
              "  </tbody>\n",
              "</table><p>\n",
              "\n",
              "    <div>\n",
              "        <style>\n",
              "            /* Turns off some styling */\n",
              "            progress {\n",
              "                /* gets rid of default border in Firefox and Opera. */\n",
              "                border: none;\n",
              "                /* Needs to be in here for Safari polyfill so background images work as expected. */\n",
              "                background-size: auto;\n",
              "            }\n",
              "            .progress-bar-interrupted, .progress-bar-interrupted::-webkit-progress-bar {\n",
              "                background: #F44336;\n",
              "            }\n",
              "        </style>\n",
              "      <progress value='14' class='' max='80' style='width:300px; height:20px; vertical-align: middle;'></progress>\n",
              "      17.50% [14/80 00:48<03:48 0.2695]\n",
              "    </div>\n",
              "    "
            ],
            "text/plain": [
              "<IPython.core.display.HTML object>"
            ]
          },
          "metadata": {
            "tags": []
          }
        }
      ]
    },
    {
      "cell_type": "code",
      "metadata": {
        "scrolled": true,
        "id": "rkOUCto5WVd9"
      },
      "source": [
        "do_fit(learn_gen, 10, gen_name+\"_256px_0\", slice(lr*10))"
      ],
      "execution_count": null,
      "outputs": []
    },
    {
      "cell_type": "code",
      "metadata": {
        "id": "tu-zJvlrWVd-"
      },
      "source": [
        "learn_gen.unfreeze()"
      ],
      "execution_count": null,
      "outputs": []
    },
    {
      "cell_type": "code",
      "metadata": {
        "id": "gLd_9_BjWVeA"
      },
      "source": [
        "do_fit(learn_gen, 3, gen_name+\"_256px_1\", lr)"
      ],
      "execution_count": null,
      "outputs": []
    },
    {
      "cell_type": "markdown",
      "metadata": {
        "id": "Ea0oL5ozWVeA"
      },
      "source": [
        "# 512px"
      ]
    },
    {
      "cell_type": "code",
      "metadata": {
        "id": "67-OebREWVeB"
      },
      "source": [
        "bs=2\n",
        "sz=512\n",
        "epochs = 1"
      ],
      "execution_count": null,
      "outputs": []
    },
    {
      "cell_type": "code",
      "metadata": {
        "id": "Jmff5aIUWVeB"
      },
      "source": [
        "data_gen = get_DIV2k_data_QF(path_lowRes_512, path_fullRes, bs=bs, sz=sz)"
      ],
      "execution_count": null,
      "outputs": []
    },
    {
      "cell_type": "code",
      "metadata": {
        "id": "zJ_9Bi8IWVeB",
        "outputId": "a69bf671-a5f7-488e-a237-97b203e41711"
      },
      "source": [
        "learn_gen.data = data_gen\n",
        "learn_gen.freeze()\n",
        "gc.collect()"
      ],
      "execution_count": null,
      "outputs": [
        {
          "output_type": "execute_result",
          "data": {
            "text/plain": [
              "6563"
            ]
          },
          "metadata": {
            "tags": []
          },
          "execution_count": 18
        }
      ]
    },
    {
      "cell_type": "code",
      "metadata": {
        "id": "nYXgNqfKWVeD"
      },
      "source": [
        "# learn_gen.load(gen_name+\"_256px_1\")"
      ],
      "execution_count": null,
      "outputs": []
    },
    {
      "cell_type": "code",
      "metadata": {
        "id": "EDrU-Xw8WVeD"
      },
      "source": [
        "# learn_gen.lr_find()\n",
        "# learn_gen.recorder.plot()"
      ],
      "execution_count": null,
      "outputs": []
    },
    {
      "cell_type": "code",
      "metadata": {
        "scrolled": true,
        "id": "LyJ6BM62WVeD"
      },
      "source": [
        "print(\"Upsize to gen_512\")\n",
        "\n",
        "do_fit(learn_gen, 3, gen_name+\"_512px_0\", slice(1e-3))"
      ],
      "execution_count": null,
      "outputs": []
    },
    {
      "cell_type": "code",
      "metadata": {
        "id": "AxOr_PqzWVeE"
      },
      "source": [
        "learn_gen.unfreeze()"
      ],
      "execution_count": null,
      "outputs": []
    },
    {
      "cell_type": "code",
      "metadata": {
        "id": "BS36vfd8WVeF"
      },
      "source": [
        "do_fit(learn_gen, 3, gen_name+\"_512px_1\", 1e-3)"
      ],
      "execution_count": null,
      "outputs": []
    },
    {
      "cell_type": "code",
      "metadata": {
        "scrolled": true,
        "id": "ZpGSDTPbWVeG"
      },
      "source": [
        "learn_gen.show_results(rows=10, imgsize=20)"
      ],
      "execution_count": null,
      "outputs": []
    },
    {
      "cell_type": "markdown",
      "metadata": {
        "id": "1sg4dvYjWVeG"
      },
      "source": [
        "# Quality 35"
      ]
    },
    {
      "cell_type": "code",
      "metadata": {
        "id": "BaORIb-LWVeG"
      },
      "source": [
        "bs=2\n",
        "sz=512\n",
        "epochs = 1\n",
        "\n",
        "path_lowRes_512 = path/'DIV2K_train_LR_512_QF35'"
      ],
      "execution_count": null,
      "outputs": []
    },
    {
      "cell_type": "code",
      "metadata": {
        "id": "0lR1XByZWVeH"
      },
      "source": [
        "data_gen = get_DIV2k_data_QF(path_lowRes_512, path_fullRes, bs=bs, sz=sz)"
      ],
      "execution_count": null,
      "outputs": []
    },
    {
      "cell_type": "code",
      "metadata": {
        "id": "-mSE5KSPWVeI",
        "outputId": "e59a995b-83cc-434f-a8bc-cec98fa61c59"
      },
      "source": [
        "learn_gen.data = data_gen\n",
        "learn_gen.freeze()\n",
        "gc.collect()"
      ],
      "execution_count": null,
      "outputs": [
        {
          "output_type": "execute_result",
          "data": {
            "text/plain": [
              "26433"
            ]
          },
          "metadata": {
            "tags": []
          },
          "execution_count": 27
        }
      ]
    },
    {
      "cell_type": "code",
      "metadata": {
        "id": "e9DwQ9R7WVeI"
      },
      "source": [
        "do_fit(learn_gen, 3, gen_name+\"_512px_2\", 1e-3)"
      ],
      "execution_count": null,
      "outputs": []
    },
    {
      "cell_type": "code",
      "metadata": {
        "id": "I1J3uP3lWVeJ"
      },
      "source": [
        "# learn_gen.load(gen_name+\"_512px_2\")"
      ],
      "execution_count": null,
      "outputs": []
    },
    {
      "cell_type": "code",
      "metadata": {
        "id": "4wajqaXnWVeJ"
      },
      "source": [
        "learn_gen.unfreeze()"
      ],
      "execution_count": null,
      "outputs": []
    },
    {
      "cell_type": "code",
      "metadata": {
        "id": "vnSs5LF7WVeK"
      },
      "source": [
        "do_fit(learn_gen, 3, gen_name+\"_512px_3\", slice(1e-3))"
      ],
      "execution_count": null,
      "outputs": []
    },
    {
      "cell_type": "markdown",
      "metadata": {
        "id": "X3E4YUfvWVeL"
      },
      "source": [
        "# Quality 50"
      ]
    },
    {
      "cell_type": "code",
      "metadata": {
        "id": "Vu-g-F1lWVeL"
      },
      "source": [
        "bs=2\n",
        "sz=512\n",
        "epochs = 1\n",
        "\n",
        "path_lowRes_512 = path/'DIV2K_train_LR_512_QF50'"
      ],
      "execution_count": null,
      "outputs": []
    },
    {
      "cell_type": "code",
      "metadata": {
        "id": "kkIqAS2zWVeL"
      },
      "source": [
        "data_gen = get_DIV2k_data_QF(path_lowRes_512, path_fullRes, bs=bs, sz=sz)"
      ],
      "execution_count": null,
      "outputs": []
    },
    {
      "cell_type": "code",
      "metadata": {
        "id": "OQLQR8ClWVeM",
        "outputId": "ee2d7749-23e7-417f-eb54-1d44d2ea5562"
      },
      "source": [
        "# learn_gen.data = data_gen\n",
        "# learn_gen.freeze()\n",
        "gc.collect()"
      ],
      "execution_count": null,
      "outputs": [
        {
          "output_type": "execute_result",
          "data": {
            "text/plain": [
              "0"
            ]
          },
          "metadata": {
            "tags": []
          },
          "execution_count": 18
        }
      ]
    },
    {
      "cell_type": "code",
      "metadata": {
        "id": "Az-chlZLWVeN"
      },
      "source": [
        "# learn_gen.lr_find()\n",
        "# learn_gen.recorder.plot()"
      ],
      "execution_count": null,
      "outputs": []
    },
    {
      "cell_type": "code",
      "metadata": {
        "id": "oO8JeYULWVeN"
      },
      "source": [
        "do_fit(learn_gen, 1, gen_name+\"_512px_4\", 1e-3)"
      ],
      "execution_count": null,
      "outputs": []
    },
    {
      "cell_type": "code",
      "metadata": {
        "id": "axSD5ALRWVeO"
      },
      "source": [
        "learn_gen.load(gen_name+\"_512px_4\")"
      ],
      "execution_count": null,
      "outputs": []
    },
    {
      "cell_type": "code",
      "metadata": {
        "id": "DxZceKx3WVeP"
      },
      "source": [
        "learn_gen.unfreeze()"
      ],
      "execution_count": null,
      "outputs": []
    },
    {
      "cell_type": "code",
      "metadata": {
        "scrolled": true,
        "id": "p1gQshQ2WVeP"
      },
      "source": [
        "do_fit(learn_gen, 3, gen_name+\"_512px_5\", slice(1e-3))"
      ],
      "execution_count": null,
      "outputs": []
    },
    {
      "cell_type": "markdown",
      "metadata": {
        "id": "CEeFxvOeWVeR"
      },
      "source": [
        "# Fine Tune patch model"
      ]
    },
    {
      "cell_type": "code",
      "metadata": {
        "id": "-5mMRz4xWVeR"
      },
      "source": [
        "bs=2\n",
        "sz=512\n",
        "lr = 1e-2\n",
        "wd = 1e-3\n",
        "epochs = 1"
      ],
      "execution_count": null,
      "outputs": []
    },
    {
      "cell_type": "code",
      "metadata": {
        "id": "37_oaBCNWVeS"
      },
      "source": [
        "data_gen = get_DIV2k_data_QF(path_lowRes_512, path_fullRes, bs=bs, sz=sz)"
      ],
      "execution_count": null,
      "outputs": []
    },
    {
      "cell_type": "code",
      "metadata": {
        "id": "S1dZC9EiWVeS"
      },
      "source": [
        "learn_gen = gen_learner_wide(data=data_gen,\n",
        "                             gen_loss=loss_func,\n",
        "                             arch = model,\n",
        "                             nf_factor=nf_factor)"
      ],
      "execution_count": null,
      "outputs": []
    },
    {
      "cell_type": "code",
      "metadata": {
        "id": "2F9ZDbHbWVeT"
      },
      "source": [
        "learn_gen.metrics.append(SSIM_Metric_gen())\n",
        "learn_gen.metrics.append(SSIM_Metric_input())\n",
        "learn_gen.metrics.append(BRISQUE_Metric_gen())\n",
        "learn_gen.metrics.append(BRISQUE_Metric_input())\n",
        "learn_gen.metrics.append(BRISQUE_Metric_target())\n",
        "learn_gen.metrics.append(NIQE_Metric_gen())\n",
        "learn_gen.metrics.append(NIQE_Metric_input())\n",
        "learn_gen.metrics.append(NIQE_Metric_target())"
      ],
      "execution_count": null,
      "outputs": []
    },
    {
      "cell_type": "code",
      "metadata": {
        "id": "Y9NiuaGpWVeT"
      },
      "source": [
        "learn_gen.load(\"/data/students_home/fmameli/repos/Artifact_Removal_GAN/dataset/DIV2K_train_LR_Patches/64px_FullQF20/models/unet_superRes_mobilenetV3_Patches64px_gen_64px_2\")"
      ],
      "execution_count": null,
      "outputs": []
    },
    {
      "cell_type": "code",
      "metadata": {
        "id": "d8NvEjSfWVeU"
      },
      "source": [
        "do_fit(learn_gen, 1, gen_name+\"_512px_5\", 1e-3)"
      ],
      "execution_count": null,
      "outputs": []
    },
    {
      "cell_type": "code",
      "metadata": {
        "id": "82SYGDs5WVeV"
      },
      "source": [
        "learn_gen.unfreeze()"
      ],
      "execution_count": null,
      "outputs": []
    },
    {
      "cell_type": "code",
      "metadata": {
        "id": "a8yyN67DWVeV"
      },
      "source": [
        "do_fit(learn_gen, 3, gen_name+\"_512px_5\", 1e-3)"
      ],
      "execution_count": null,
      "outputs": []
    },
    {
      "cell_type": "code",
      "metadata": {
        "scrolled": true,
        "id": "tF9zs4M6WVeW"
      },
      "source": [
        "learn_gen.show_results(rows=5, imgsize=15)"
      ],
      "execution_count": null,
      "outputs": []
    },
    {
      "cell_type": "markdown",
      "metadata": {
        "id": "M8Kw5H76WVeX"
      },
      "source": [
        "# Test"
      ]
    },
    {
      "cell_type": "code",
      "metadata": {
        "id": "XjRP7bwiWVeX"
      },
      "source": [
        "bs=1\n",
        "sz=512\n",
        "epochs = 1"
      ],
      "execution_count": null,
      "outputs": []
    },
    {
      "cell_type": "code",
      "metadata": {
        "id": "gbrFAwBcWVeX"
      },
      "source": [
        "path_lowRes_512 = path/'DIV2K_train_LR_512_QF20'\n",
        "size=( 512, 680)"
      ],
      "execution_count": null,
      "outputs": []
    },
    {
      "cell_type": "code",
      "metadata": {
        "id": "xq6yZ5q2WVeX"
      },
      "source": [
        "data_1k = (ImageImageList.from_folder(path_lowRes_512, presort=True).split_by_idxs(\n",
        "            train_idx=list(range(0, 800)), valid_idx=list(range(800, 900)))\n",
        "          .label_from_func(lambda x: path_fullRes/x.name.replace(\".jpg\", \".png\"))\n",
        "          .transform(get_transforms(), size=size, tfm_y=True)\n",
        "          .databunch(bs=1).normalize(imagenet_stats, do_y=True))\n",
        "data_1k.c = 3"
      ],
      "execution_count": null,
      "outputs": []
    },
    {
      "cell_type": "code",
      "metadata": {
        "id": "2ASejpCwWVeY",
        "outputId": "76d2bfc1-ec51-472d-9473-ba1a7ad4f31c"
      },
      "source": [
        "learn_gen.data = data_1k\n",
        "learn_gen.freeze()\n",
        "gc.collect()"
      ],
      "execution_count": null,
      "outputs": [
        {
          "output_type": "execute_result",
          "data": {
            "text/plain": [
              "20088"
            ]
          },
          "metadata": {
            "tags": []
          },
          "execution_count": 26
        }
      ]
    },
    {
      "cell_type": "code",
      "metadata": {
        "id": "B13tuuWIWVeZ"
      },
      "source": [
        "learn_gen.load(\"/data/students_home/fmameli/repos/Artifact_Removal_GAN/dataset/DIV2K_train_LR_Patches/64px_FullQF20/models/unet_superRes_mobilenetV3_Patches64px_gen_64px_2\")"
      ],
      "execution_count": null,
      "outputs": []
    },
    {
      "cell_type": "code",
      "metadata": {
        "id": "Yb05SilVWVeZ",
        "outputId": "363b178b-5022-4634-ed36-0b5b6548d2a2"
      },
      "source": [
        "fn = data_1k.valid_dl.x.items[2]; fn"
      ],
      "execution_count": null,
      "outputs": [
        {
          "output_type": "execute_result",
          "data": {
            "text/plain": [
              "PosixPath('dataset/DIV2K_train_LR_512_QF20/0803.jpg')"
            ]
          },
          "metadata": {
            "tags": []
          },
          "execution_count": 32
        }
      ]
    },
    {
      "cell_type": "code",
      "metadata": {
        "id": "W9JGI9hTWVeb",
        "outputId": "e80b8946-cd47-4da6-faab-469f6583a62a"
      },
      "source": [
        "img = open_image(fn); print(img.shape)\n",
        "p,img_hr,b = learn_gen.predict(img)"
      ],
      "execution_count": null,
      "outputs": [
        {
          "output_type": "stream",
          "text": [
            "torch.Size([3, 512, 680])\n"
          ],
          "name": "stdout"
        }
      ]
    },
    {
      "cell_type": "code",
      "metadata": {
        "id": "eKoBwOYDWVec"
      },
      "source": [
        "show_image(img, figsize=(15,15), interpolation='nearest');"
      ],
      "execution_count": null,
      "outputs": []
    },
    {
      "cell_type": "code",
      "metadata": {
        "id": "nO2EVOQtWVed"
      },
      "source": [
        "Image(img_hr).show(figsize=(15,15))"
      ],
      "execution_count": null,
      "outputs": []
    }
  ]
}