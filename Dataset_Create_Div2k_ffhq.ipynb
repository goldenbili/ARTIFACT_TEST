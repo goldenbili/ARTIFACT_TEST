{
 "cells": [
  {
   "cell_type": "code",
   "execution_count": null,
   "metadata": {},
   "outputs": [],
   "source": [
    "import os\n",
    "import numpy as np\n",
    "os.environ['CUDA_VISIBLE_DEVICES']='0'\n",
    "\n",
    "from fastai import *\n",
    "from fastai.vision import *\n",
    "\n",
    "from shutil import copyfile"
   ]
  },
  {
   "cell_type": "code",
   "execution_count": null,
   "metadata": {},
   "outputs": [],
   "source": [
    "ffhq_path = Path(\"/data/students_home/fmameli/repos/ffhq-dataset/images1024x1024\")"
   ]
  },
  {
   "cell_type": "code",
   "execution_count": null,
   "metadata": {
    "scrolled": true
   },
   "outputs": [],
   "source": [
    "fl_ffhq = ffhq_path.ls()"
   ]
  },
  {
   "cell_type": "code",
   "execution_count": null,
   "metadata": {},
   "outputs": [],
   "source": [
    "div2k = Path(\"/data/students_home/fmameli/repos/Artifact_Removal_GAN/dataset/DIV2K_train_HR\")"
   ]
  },
  {
   "cell_type": "code",
   "execution_count": null,
   "metadata": {},
   "outputs": [],
   "source": [
    "fl_div2k = div2k.ls()"
   ]
  },
  {
   "cell_type": "code",
   "execution_count": null,
   "metadata": {},
   "outputs": [],
   "source": [
    "fl_ffhq = ImageList.from_folder(ffhq_path, presort=True)\n",
    "fl_div2k = ImageList.from_folder(div2k, presort=True)"
   ]
  },
  {
   "cell_type": "code",
   "execution_count": null,
   "metadata": {},
   "outputs": [],
   "source": [
    "fl_div2k.items[0:800].size"
   ]
  },
  {
   "cell_type": "code",
   "execution_count": null,
   "metadata": {},
   "outputs": [],
   "source": [
    "mixed_train = np.union1d(fl_div2k.items[:800], fl_ffhq.items[:120])"
   ]
  },
  {
   "cell_type": "code",
   "execution_count": null,
   "metadata": {},
   "outputs": [],
   "source": [
    "mixed_train.size"
   ]
  },
  {
   "cell_type": "code",
   "execution_count": null,
   "metadata": {},
   "outputs": [],
   "source": [
    "for i, fn in enumerate(mixed_train):\n",
    "    id_img = str(i+1).zfill(5)\n",
    "    print(\"/data/students_home/fmameli/repos/Artifact_Removal_GAN/dataset/DIV2K_train_HR_Mixed/\" + id_img + \".png\")\n",
    "    dst = \"/data/students_home/fmameli/repos/Artifact_Removal_GAN/dataset/DIV2K_train_HR_Mixed/\" + id_img + \".png\"\n",
    "    copyfile(fn, dst)"
   ]
  },
  {
   "cell_type": "code",
   "execution_count": null,
   "metadata": {},
   "outputs": [],
   "source": [
    "mixed_val = np.union1d(fl_div2k.items[801:], fl_ffhq.items[121:142])"
   ]
  },
  {
   "cell_type": "code",
   "execution_count": null,
   "metadata": {},
   "outputs": [],
   "source": [
    "mixed_val.size"
   ]
  },
  {
   "cell_type": "code",
   "execution_count": null,
   "metadata": {
    "scrolled": true
   },
   "outputs": [],
   "source": [
    "for i, fn in enumerate(mixed_val):\n",
    "    id_img = str(i+921).zfill(5)\n",
    "    print(\"/data/students_home/fmameli/repos/Artifact_Removal_GAN/dataset/DIV2K_train_HR_Mixed/\" + id_img + \".png\")\n",
    "    dst = \"/data/students_home/fmameli/repos/Artifact_Removal_GAN/dataset/DIV2K_train_HR_Mixed/\" + id_img + \".png\"\n",
    "    copyfile(fn, dst)"
   ]
  },
  {
   "cell_type": "markdown",
   "metadata": {},
   "source": [
    "# Div2k + Flickr2k"
   ]
  },
  {
   "cell_type": "code",
   "execution_count": null,
   "metadata": {},
   "outputs": [],
   "source": [
    "div2k = Path(\"/data/students_home/fmameli/repos/Artifact_Removal_GAN/dataset/DIV2K_train_HR\")"
   ]
  },
  {
   "cell_type": "code",
   "execution_count": null,
   "metadata": {},
   "outputs": [],
   "source": [
    "flickr2k = Path(\"/data/students_home/fmameli/repos/Artifact_Removal_GAN/dataset/Flickr2K/Flickr2K_HR\")"
   ]
  },
  {
   "cell_type": "code",
   "execution_count": null,
   "metadata": {},
   "outputs": [],
   "source": [
    "ffhq_path = Path(\"/data/students_home/fmameli/repos/ffhq-dataset/images1024x1024\")"
   ]
  },
  {
   "cell_type": "code",
   "execution_count": null,
   "metadata": {},
   "outputs": [],
   "source": [
    "fl_flickr2k = ImageList.from_folder(flickr2k, presort=True)\n",
    "fl_div2k = ImageList.from_folder(div2k, presort=True)\n",
    "\n",
    "fl_ffhq = ImageList.from_folder(ffhq_path, presort=True)"
   ]
  },
  {
   "cell_type": "code",
   "execution_count": null,
   "metadata": {},
   "outputs": [],
   "source": [
    "fl_div2k.items[0:800].size"
   ]
  },
  {
   "cell_type": "code",
   "execution_count": null,
   "metadata": {},
   "outputs": [],
   "source": [
    "fl_flickr2k.items[0:2500].size"
   ]
  },
  {
   "cell_type": "code",
   "execution_count": null,
   "metadata": {},
   "outputs": [],
   "source": [
    "fl_ffhq.items[:120].size"
   ]
  },
  {
   "cell_type": "code",
   "execution_count": null,
   "metadata": {},
   "outputs": [],
   "source": [
    "div_flickr_train = np.union1d(fl_div2k.items[:800], fl_flickr2k.items[0:2500])\n",
    "div_flickr_train = np.union1d(div_flickr_train, fl_ffhq.items[:120])"
   ]
  },
  {
   "cell_type": "code",
   "execution_count": null,
   "metadata": {},
   "outputs": [],
   "source": [
    "div_flickr_val = np.union1d(fl_div2k.items[801:], fl_flickr2k.items[2501:])"
   ]
  },
  {
   "cell_type": "code",
   "execution_count": null,
   "metadata": {},
   "outputs": [],
   "source": [
    "div_flickr_val.size, div_flickr_train.size"
   ]
  },
  {
   "cell_type": "code",
   "execution_count": null,
   "metadata": {
    "scrolled": true
   },
   "outputs": [],
   "source": [
    "for i, fn in enumerate(div_flickr_train):\n",
    "    id_img = str(i+1).zfill(5)\n",
    "    print(\"/data/students_home/fmameli/repos/Artifact_Removal_GAN/dataset/DIV2K_Flickr_Mixed_HR/\" + id_img + \".png\")\n",
    "    dst = \"/data/students_home/fmameli/repos/Artifact_Removal_GAN/dataset/DIV2K_Flickr_Mixed_HR/\" + id_img + \".png\"\n",
    "    copyfile(fn, dst)"
   ]
  },
  {
   "cell_type": "code",
   "execution_count": null,
   "metadata": {
    "scrolled": true
   },
   "outputs": [],
   "source": [
    "for i, fn in enumerate(div_flickr_val):\n",
    "    id_img = str(i+3421).zfill(5)\n",
    "    print(\"/data/students_home/fmameli/repos/Artifact_Removal_GAN/dataset/DIV2K_Flickr_Mixed_HR/\" + id_img + \".png\")\n",
    "    dst = \"/data/students_home/fmameli/repos/Artifact_Removal_GAN/dataset/DIV2K_Flickr_Mixed_HR/\" + id_img + \".png\"\n",
    "    copyfile(fn, dst)"
   ]
  }
 ],
 "metadata": {
  "kernelspec": {
   "display_name": "Python 3",
   "language": "python",
   "name": "python3"
  },
  "language_info": {
   "codemirror_mode": {
    "name": "ipython",
    "version": 3
   },
   "file_extension": ".py",
   "mimetype": "text/x-python",
   "name": "python",
   "nbconvert_exporter": "python",
   "pygments_lexer": "ipython3",
   "version": "3.6.9"
  }
 },
 "nbformat": 4,
 "nbformat_minor": 2
}
